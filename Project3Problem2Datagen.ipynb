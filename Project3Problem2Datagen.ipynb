{
  "nbformat": 4,
  "nbformat_minor": 0,
  "metadata": {
    "colab": {
      "provenance": [],
      "authorship_tag": "ABX9TyOdvAXocSnHGbhFDkOUXQql",
      "include_colab_link": true
    },
    "kernelspec": {
      "name": "python3",
      "display_name": "Python 3"
    },
    "language_info": {
      "name": "python"
    }
  },
  "cells": [
    {
      "cell_type": "markdown",
      "metadata": {
        "id": "view-in-github",
        "colab_type": "text"
      },
      "source": [
        "<a href=\"https://colab.research.google.com/github/JackLafond/CS4433-Project3/blob/main/Project3Problem2Datagen.ipynb\" target=\"_parent\"><img src=\"https://colab.research.google.com/assets/colab-badge.svg\" alt=\"Open In Colab\"/></a>"
      ]
    },
    {
      "cell_type": "code",
      "execution_count": null,
      "metadata": {
        "id": "0zN3kpjkgFvY"
      },
      "outputs": [],
      "source": []
    },
    {
      "cell_type": "code",
      "source": [
        "import numpy as np\n",
        "from google.colab import drive\n",
        "drive.mount('/content/drive')\n",
        "import pandas as pd\n",
        "import random\n",
        "import string\n",
        "import csv"
      ],
      "metadata": {
        "colab": {
          "base_uri": "https://localhost:8080/"
        },
        "id": "suE4rhjSgHAM",
        "outputId": "1524e40c-c061-4e2a-c9e4-bf9f4cb4b0e1"
      },
      "execution_count": 5,
      "outputs": [
        {
          "output_type": "stream",
          "name": "stdout",
          "text": [
            "Drive already mounted at /content/drive; to attempt to forcibly remount, call drive.mount(\"/content/drive\", force_remount=True).\n"
          ]
        }
      ]
    },
    {
      "cell_type": "code",
      "source": [
        "dir_loc = '/content/drive/MyDrive/Big_Data_Management/'"
      ],
      "metadata": {
        "id": "Dt4IU4_IgQfQ"
      },
      "execution_count": 3,
      "outputs": []
    },
    {
      "cell_type": "code",
      "source": [
        "def generate_random_name(length):\n",
        "    return ''.join(random.choice(string.ascii_letters) for _ in range(length))\n",
        "\n",
        "def generate_customer_data(num_customers=50):\n",
        "    with open(dir_loc + '/customers.csv', 'w', newline='') as file:\n",
        "        writer = csv.writer(file)\n",
        "        writer.writerow([\"ID\", \"Name\", \"Age\", \"CountryCode\", \"Salary\"])\n",
        "\n",
        "        for i in range(1, num_customers + 1):\n",
        "            name = generate_random_name(random.randint(10, 20))\n",
        "            age = random.randint(18, 100)\n",
        "            country_code = random.randint(1, 500)\n",
        "            salary = round(random.uniform(100, 10000000), 2)\n",
        "\n",
        "            writer.writerow([i, name, age, country_code, salary])\n",
        "\n",
        "\n",
        "\n",
        "def generate_random_customer():\n",
        "  with open(dir_loc + '/customers.csv', 'r', newline='') as file:\n",
        "        csvfile = csv.reader(file)\n",
        "\n",
        "        rows = list(csvfile)\n",
        "        if rows:\n",
        "            header = rows[0]\n",
        "            if header:  # Check if the first row is a header\n",
        "                rows = rows[1:]\n",
        "\n",
        "        # Select a random row\n",
        "        random_row = random.choice(rows) if rows else None\n",
        "        return random_row\n",
        "\n",
        "def generate_purchase_data(num_purchase=300):\n",
        "  with open(dir_loc + '/purchases.csv', 'w', newline='') as file:\n",
        "        writer = csv.writer(file)\n",
        "        writer.writerow([\"TransID\", \"CustID\", \"TransTotal\", \"TransNumItems\", \"TransDesc\"])\n",
        "\n",
        "        for i in range(1, num_purchase + 1):\n",
        "            CustID = generate_random_customer()[0]\n",
        "            TransTotal = round(random.uniform(10, 2000), 2)\n",
        "            TransNumItems = random.randint(1, 15)\n",
        "            TransDesc = generate_random_name(random.randint(20, 50))\n",
        "\n",
        "            writer.writerow([i, CustID, TransTotal, TransNumItems, TransDesc])"
      ],
      "metadata": {
        "id": "ZLTo4s07hnWj"
      },
      "execution_count": 28,
      "outputs": []
    },
    {
      "cell_type": "code",
      "source": [
        "generate_customer_data()"
      ],
      "metadata": {
        "id": "rY6m-TL2m0Jk"
      },
      "execution_count": null,
      "outputs": []
    },
    {
      "cell_type": "code",
      "source": [
        "generate_purchase_data()"
      ],
      "metadata": {
        "id": "Ie9At5isibzp"
      },
      "execution_count": 29,
      "outputs": []
    }
  ]
}